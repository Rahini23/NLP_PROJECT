{
 "cells": [
  {
   "cell_type": "markdown",
   "id": "4c1241dc",
   "metadata": {},
   "source": [
    "NAME:R.RAHINI\n",
    "ROLL NO:215229128"
   ]
  },
  {
   "cell_type": "markdown",
   "id": "9e5cfaac",
   "metadata": {},
   "source": [
    "# NLP With Disaster Tweets (Logistic Regression-80%)"
   ]
  },
  {
   "cell_type": "markdown",
   "id": "fd341b3d",
   "metadata": {},
   "source": [
    "# STEP 1:IMPORT DATASET"
   ]
  },
  {
   "cell_type": "code",
   "execution_count": 1,
   "id": "5e0af3a3",
   "metadata": {},
   "outputs": [],
   "source": [
    "import numpy as np\n",
    "import pandas as pd"
   ]
  },
  {
   "cell_type": "code",
   "execution_count": 2,
   "id": "6ef28bd1",
   "metadata": {},
   "outputs": [
    {
     "data": {
      "text/html": [
       "<div>\n",
       "<style scoped>\n",
       "    .dataframe tbody tr th:only-of-type {\n",
       "        vertical-align: middle;\n",
       "    }\n",
       "\n",
       "    .dataframe tbody tr th {\n",
       "        vertical-align: top;\n",
       "    }\n",
       "\n",
       "    .dataframe thead th {\n",
       "        text-align: right;\n",
       "    }\n",
       "</style>\n",
       "<table border=\"1\" class=\"dataframe\">\n",
       "  <thead>\n",
       "    <tr style=\"text-align: right;\">\n",
       "      <th></th>\n",
       "      <th>id</th>\n",
       "      <th>keyword</th>\n",
       "      <th>location</th>\n",
       "      <th>text</th>\n",
       "      <th>target</th>\n",
       "    </tr>\n",
       "  </thead>\n",
       "  <tbody>\n",
       "    <tr>\n",
       "      <th>0</th>\n",
       "      <td>1</td>\n",
       "      <td>NaN</td>\n",
       "      <td>NaN</td>\n",
       "      <td>Our Deeds are the Reason of this #earthquake M...</td>\n",
       "      <td>1</td>\n",
       "    </tr>\n",
       "    <tr>\n",
       "      <th>1</th>\n",
       "      <td>4</td>\n",
       "      <td>NaN</td>\n",
       "      <td>NaN</td>\n",
       "      <td>Forest fire near La Ronge Sask. Canada</td>\n",
       "      <td>1</td>\n",
       "    </tr>\n",
       "    <tr>\n",
       "      <th>2</th>\n",
       "      <td>5</td>\n",
       "      <td>NaN</td>\n",
       "      <td>NaN</td>\n",
       "      <td>All residents asked to 'shelter in place' are ...</td>\n",
       "      <td>1</td>\n",
       "    </tr>\n",
       "    <tr>\n",
       "      <th>3</th>\n",
       "      <td>6</td>\n",
       "      <td>NaN</td>\n",
       "      <td>NaN</td>\n",
       "      <td>13,000 people receive #wildfires evacuation or...</td>\n",
       "      <td>1</td>\n",
       "    </tr>\n",
       "    <tr>\n",
       "      <th>4</th>\n",
       "      <td>7</td>\n",
       "      <td>NaN</td>\n",
       "      <td>NaN</td>\n",
       "      <td>Just got sent this photo from Ruby #Alaska as ...</td>\n",
       "      <td>1</td>\n",
       "    </tr>\n",
       "  </tbody>\n",
       "</table>\n",
       "</div>"
      ],
      "text/plain": [
       "   id keyword location                                               text  \\\n",
       "0   1     NaN      NaN  Our Deeds are the Reason of this #earthquake M...   \n",
       "1   4     NaN      NaN             Forest fire near La Ronge Sask. Canada   \n",
       "2   5     NaN      NaN  All residents asked to 'shelter in place' are ...   \n",
       "3   6     NaN      NaN  13,000 people receive #wildfires evacuation or...   \n",
       "4   7     NaN      NaN  Just got sent this photo from Ruby #Alaska as ...   \n",
       "\n",
       "   target  \n",
       "0       1  \n",
       "1       1  \n",
       "2       1  \n",
       "3       1  \n",
       "4       1  "
      ]
     },
     "execution_count": 2,
     "metadata": {},
     "output_type": "execute_result"
    }
   ],
   "source": [
    "train_df = pd.read_csv('train.csv')\n",
    "train_df.head()"
   ]
  },
  {
   "cell_type": "code",
   "execution_count": 3,
   "id": "75eee4f3",
   "metadata": {},
   "outputs": [
    {
     "data": {
      "text/html": [
       "<div>\n",
       "<style scoped>\n",
       "    .dataframe tbody tr th:only-of-type {\n",
       "        vertical-align: middle;\n",
       "    }\n",
       "\n",
       "    .dataframe tbody tr th {\n",
       "        vertical-align: top;\n",
       "    }\n",
       "\n",
       "    .dataframe thead th {\n",
       "        text-align: right;\n",
       "    }\n",
       "</style>\n",
       "<table border=\"1\" class=\"dataframe\">\n",
       "  <thead>\n",
       "    <tr style=\"text-align: right;\">\n",
       "      <th></th>\n",
       "      <th>id</th>\n",
       "      <th>keyword</th>\n",
       "      <th>location</th>\n",
       "      <th>text</th>\n",
       "    </tr>\n",
       "  </thead>\n",
       "  <tbody>\n",
       "    <tr>\n",
       "      <th>0</th>\n",
       "      <td>0</td>\n",
       "      <td>NaN</td>\n",
       "      <td>NaN</td>\n",
       "      <td>Just happened a terrible car crash</td>\n",
       "    </tr>\n",
       "    <tr>\n",
       "      <th>1</th>\n",
       "      <td>2</td>\n",
       "      <td>NaN</td>\n",
       "      <td>NaN</td>\n",
       "      <td>Heard about #earthquake is different cities, s...</td>\n",
       "    </tr>\n",
       "    <tr>\n",
       "      <th>2</th>\n",
       "      <td>3</td>\n",
       "      <td>NaN</td>\n",
       "      <td>NaN</td>\n",
       "      <td>there is a forest fire at spot pond, geese are...</td>\n",
       "    </tr>\n",
       "    <tr>\n",
       "      <th>3</th>\n",
       "      <td>9</td>\n",
       "      <td>NaN</td>\n",
       "      <td>NaN</td>\n",
       "      <td>Apocalypse lighting. #Spokane #wildfires</td>\n",
       "    </tr>\n",
       "    <tr>\n",
       "      <th>4</th>\n",
       "      <td>11</td>\n",
       "      <td>NaN</td>\n",
       "      <td>NaN</td>\n",
       "      <td>Typhoon Soudelor kills 28 in China and Taiwan</td>\n",
       "    </tr>\n",
       "  </tbody>\n",
       "</table>\n",
       "</div>"
      ],
      "text/plain": [
       "   id keyword location                                               text\n",
       "0   0     NaN      NaN                 Just happened a terrible car crash\n",
       "1   2     NaN      NaN  Heard about #earthquake is different cities, s...\n",
       "2   3     NaN      NaN  there is a forest fire at spot pond, geese are...\n",
       "3   9     NaN      NaN           Apocalypse lighting. #Spokane #wildfires\n",
       "4  11     NaN      NaN      Typhoon Soudelor kills 28 in China and Taiwan"
      ]
     },
     "execution_count": 3,
     "metadata": {},
     "output_type": "execute_result"
    }
   ],
   "source": [
    "test_df = pd.read_csv('test.csv')\n",
    "test_df.head()"
   ]
  },
  {
   "cell_type": "markdown",
   "id": "55cc9232",
   "metadata": {},
   "source": [
    "# TEXT CLEANING"
   ]
  },
  {
   "cell_type": "markdown",
   "id": "25b55107",
   "metadata": {},
   "source": [
    "1.LOWER CASE REMOVAL"
   ]
  },
  {
   "cell_type": "code",
   "execution_count": 4,
   "id": "5f61ba35",
   "metadata": {},
   "outputs": [],
   "source": [
    "train_df[\"text_clean\"] = train_df[\"text\"].apply(lambda x: x.lower())\n",
    "test_df[\"text_clean\"] = test_df[\"text\"].apply(lambda x: x.lower())"
   ]
  },
  {
   "cell_type": "markdown",
   "id": "a3ce4995",
   "metadata": {},
   "source": [
    "2.SPECIAL CHARACTER REMOVAL"
   ]
  },
  {
   "cell_type": "code",
   "execution_count": 5,
   "id": "2fcc728b",
   "metadata": {},
   "outputs": [
    {
     "name": "stderr",
     "output_type": "stream",
     "text": [
      "<ipython-input-5-d6d4313c5a9a>:1: FutureWarning: The default value of regex will change from True to False in a future version.\n",
      "  train_df['text']= train_df['text'].str.replace('rt ',\"\").str.replace('@','').str.replace('#','').str.replace('[^\\w\\s]','').str.replace('[1-9]','')\n",
      "<ipython-input-5-d6d4313c5a9a>:2: FutureWarning: The default value of regex will change from True to False in a future version.\n",
      "  test_df['text']= test_df['text'].str.replace('rt ',\"\").str.replace('@','').str.replace('#','').str.replace('[^\\w\\s]','').str.replace('[1-9]','')\n"
     ]
    }
   ],
   "source": [
    "train_df['text']= train_df['text'].str.replace('rt ',\"\").str.replace('@','').str.replace('#','').str.replace('[^\\w\\s]','').str.replace('[1-9]','')\n",
    "test_df['text']= test_df['text'].str.replace('rt ',\"\").str.replace('@','').str.replace('#','').str.replace('[^\\w\\s]','').str.replace('[1-9]','')"
   ]
  },
  {
   "cell_type": "markdown",
   "id": "8aff5145",
   "metadata": {},
   "source": [
    "3.REMOVAL OF NON-ASCII VALUES"
   ]
  },
  {
   "cell_type": "code",
   "execution_count": 6,
   "id": "2d9e1f39",
   "metadata": {},
   "outputs": [],
   "source": [
    "import re"
   ]
  },
  {
   "cell_type": "code",
   "execution_count": 7,
   "id": "c5dcc6d9",
   "metadata": {},
   "outputs": [],
   "source": [
    "def remove_non_ascii(text):\n",
    "    return re.sub(r'[^\\x00-\\x7f]',r'', text)\n",
    "\n",
    "train_df[\"text_clean\"] = train_df[\"text_clean\"].apply(lambda x: remove_non_ascii(x))\n",
    "test_df[\"text_clean\"] = test_df[\"text_clean\"].apply(lambda x: remove_non_ascii(x))"
   ]
  },
  {
   "cell_type": "markdown",
   "id": "e68a5948",
   "metadata": {},
   "source": [
    "# IMPORT NLTK"
   ]
  },
  {
   "cell_type": "code",
   "execution_count": 8,
   "id": "ccfbc135",
   "metadata": {},
   "outputs": [
    {
     "name": "stderr",
     "output_type": "stream",
     "text": [
      "[nltk_data] Downloading package stopwords to\n",
      "[nltk_data]     C:\\Users\\rahin\\AppData\\Roaming\\nltk_data...\n",
      "[nltk_data]   Package stopwords is already up-to-date!\n",
      "[nltk_data] Downloading package wordnet to\n",
      "[nltk_data]     C:\\Users\\rahin\\AppData\\Roaming\\nltk_data...\n",
      "[nltk_data]   Package wordnet is already up-to-date!\n"
     ]
    },
    {
     "data": {
      "text/plain": [
       "True"
      ]
     },
     "execution_count": 8,
     "metadata": {},
     "output_type": "execute_result"
    }
   ],
   "source": [
    "import nltk\n",
    "nltk.download('stopwords')\n",
    "nltk.download('wordnet')"
   ]
  },
  {
   "cell_type": "code",
   "execution_count": 9,
   "id": "2bab0c16",
   "metadata": {},
   "outputs": [],
   "source": [
    "# STOP WORDS REMOVAL\n",
    "\n",
    "from nltk.corpus import stopwords\n",
    "stop_words = set(stopwords.words('english'))\n",
    "\n",
    "train_df['text'] = train_df['text'].apply(lambda x: ' '.join(term for term in x.split() if term not in stop_words))\n",
    "test_df['text'] = train_df['text'].apply(lambda x: ' '.join(term for term in x.split() if term not in stop_words))"
   ]
  },
  {
   "cell_type": "code",
   "execution_count": 10,
   "id": "542f6e70",
   "metadata": {},
   "outputs": [
    {
     "data": {
      "text/plain": [
       "{'a',\n",
       " 'about',\n",
       " 'above',\n",
       " 'after',\n",
       " 'again',\n",
       " 'against',\n",
       " 'ain',\n",
       " 'all',\n",
       " 'am',\n",
       " 'an',\n",
       " 'and',\n",
       " 'any',\n",
       " 'are',\n",
       " 'aren',\n",
       " \"aren't\",\n",
       " 'as',\n",
       " 'at',\n",
       " 'be',\n",
       " 'because',\n",
       " 'been',\n",
       " 'before',\n",
       " 'being',\n",
       " 'below',\n",
       " 'between',\n",
       " 'both',\n",
       " 'but',\n",
       " 'by',\n",
       " 'can',\n",
       " 'couldn',\n",
       " \"couldn't\",\n",
       " 'd',\n",
       " 'did',\n",
       " 'didn',\n",
       " \"didn't\",\n",
       " 'do',\n",
       " 'does',\n",
       " 'doesn',\n",
       " \"doesn't\",\n",
       " 'doing',\n",
       " 'don',\n",
       " \"don't\",\n",
       " 'down',\n",
       " 'during',\n",
       " 'each',\n",
       " 'few',\n",
       " 'for',\n",
       " 'from',\n",
       " 'further',\n",
       " 'had',\n",
       " 'hadn',\n",
       " \"hadn't\",\n",
       " 'has',\n",
       " 'hasn',\n",
       " \"hasn't\",\n",
       " 'have',\n",
       " 'haven',\n",
       " \"haven't\",\n",
       " 'having',\n",
       " 'he',\n",
       " 'her',\n",
       " 'here',\n",
       " 'hers',\n",
       " 'herself',\n",
       " 'him',\n",
       " 'himself',\n",
       " 'his',\n",
       " 'how',\n",
       " 'i',\n",
       " 'if',\n",
       " 'in',\n",
       " 'into',\n",
       " 'is',\n",
       " 'isn',\n",
       " \"isn't\",\n",
       " 'it',\n",
       " \"it's\",\n",
       " 'its',\n",
       " 'itself',\n",
       " 'just',\n",
       " 'll',\n",
       " 'm',\n",
       " 'ma',\n",
       " 'me',\n",
       " 'mightn',\n",
       " \"mightn't\",\n",
       " 'more',\n",
       " 'most',\n",
       " 'mustn',\n",
       " \"mustn't\",\n",
       " 'my',\n",
       " 'myself',\n",
       " 'needn',\n",
       " \"needn't\",\n",
       " 'no',\n",
       " 'nor',\n",
       " 'not',\n",
       " 'now',\n",
       " 'o',\n",
       " 'of',\n",
       " 'off',\n",
       " 'on',\n",
       " 'once',\n",
       " 'only',\n",
       " 'or',\n",
       " 'other',\n",
       " 'our',\n",
       " 'ours',\n",
       " 'ourselves',\n",
       " 'out',\n",
       " 'over',\n",
       " 'own',\n",
       " 're',\n",
       " 's',\n",
       " 'same',\n",
       " 'shan',\n",
       " \"shan't\",\n",
       " 'she',\n",
       " \"she's\",\n",
       " 'should',\n",
       " \"should've\",\n",
       " 'shouldn',\n",
       " \"shouldn't\",\n",
       " 'so',\n",
       " 'some',\n",
       " 'such',\n",
       " 't',\n",
       " 'than',\n",
       " 'that',\n",
       " \"that'll\",\n",
       " 'the',\n",
       " 'their',\n",
       " 'theirs',\n",
       " 'them',\n",
       " 'themselves',\n",
       " 'then',\n",
       " 'there',\n",
       " 'these',\n",
       " 'they',\n",
       " 'this',\n",
       " 'those',\n",
       " 'through',\n",
       " 'to',\n",
       " 'too',\n",
       " 'under',\n",
       " 'until',\n",
       " 'up',\n",
       " 've',\n",
       " 'very',\n",
       " 'was',\n",
       " 'wasn',\n",
       " \"wasn't\",\n",
       " 'we',\n",
       " 'were',\n",
       " 'weren',\n",
       " \"weren't\",\n",
       " 'what',\n",
       " 'when',\n",
       " 'where',\n",
       " 'which',\n",
       " 'while',\n",
       " 'who',\n",
       " 'whom',\n",
       " 'why',\n",
       " 'will',\n",
       " 'with',\n",
       " 'won',\n",
       " \"won't\",\n",
       " 'wouldn',\n",
       " \"wouldn't\",\n",
       " 'y',\n",
       " 'you',\n",
       " \"you'd\",\n",
       " \"you'll\",\n",
       " \"you're\",\n",
       " \"you've\",\n",
       " 'your',\n",
       " 'yours',\n",
       " 'yourself',\n",
       " 'yourselves'}"
      ]
     },
     "execution_count": 10,
     "metadata": {},
     "output_type": "execute_result"
    }
   ],
   "source": [
    "stop_words"
   ]
  },
  {
   "cell_type": "markdown",
   "id": "fedc2714",
   "metadata": {},
   "source": [
    "# PREPROCESSING"
   ]
  },
  {
   "cell_type": "markdown",
   "id": "c010c1a8",
   "metadata": {},
   "source": [
    "1.FILLING MISSING VALUES"
   ]
  },
  {
   "cell_type": "code",
   "execution_count": 11,
   "id": "ec1dbc99",
   "metadata": {},
   "outputs": [
    {
     "data": {
      "text/plain": [
       "id               0\n",
       "keyword         61\n",
       "location      2533\n",
       "text             0\n",
       "target           0\n",
       "text_clean       0\n",
       "dtype: int64"
      ]
     },
     "execution_count": 11,
     "metadata": {},
     "output_type": "execute_result"
    }
   ],
   "source": [
    "train_df.isnull().sum()"
   ]
  },
  {
   "cell_type": "code",
   "execution_count": 12,
   "id": "085df00e",
   "metadata": {},
   "outputs": [
    {
     "data": {
      "text/plain": [
       "id               0\n",
       "keyword         26\n",
       "location      1105\n",
       "text             0\n",
       "text_clean       0\n",
       "dtype: int64"
      ]
     },
     "execution_count": 12,
     "metadata": {},
     "output_type": "execute_result"
    }
   ],
   "source": [
    "test_df.isnull().sum()"
   ]
  },
  {
   "cell_type": "code",
   "execution_count": 13,
   "id": "ac346035",
   "metadata": {},
   "outputs": [],
   "source": [
    "train_df['location'] = train_df['location'].fillna('None')\n",
    "train_df['keyword'] = train_df['keyword'].fillna('None')\n",
    "test_df['location'] = test_df['location'].fillna('None')\n",
    "test_df['keyword'] = test_df['keyword'].fillna('None')"
   ]
  },
  {
   "cell_type": "code",
   "execution_count": 14,
   "id": "a7829ac8",
   "metadata": {},
   "outputs": [],
   "source": [
    "import matplotlib.pyplot as plt\n",
    "import seaborn as sns"
   ]
  },
  {
   "cell_type": "code",
   "execution_count": 15,
   "id": "e0f8c8ec",
   "metadata": {},
   "outputs": [
    {
     "data": {
      "image/png": "[encoded data removed]",
      "text/plain": [
       "<Figure size 360x360 with 1 Axes>"
      ]
     },
     "metadata": {
      "needs_background": "light"
     },
     "output_type": "display_data"
    }
   ],
   "source": [
    "plt.figure(figsize = (5, 5))\n",
    "ax = plt.axes()\n",
    "ax.set_facecolor('black')\n",
    "ax = sns.countplot(x = 'target', data = train_df, edgecolor = 'white', linewidth = 1.2)\n",
    "plt.title('Disaster Count', fontsize = 25)\n",
    "plt.xlabel('Disaster', fontsize = 20)\n",
    "plt.ylabel('Count', fontsize = 20)\n",
    "ax.xaxis.set_tick_params(labelsize = 15)\n",
    "ax.yaxis.set_tick_params(labelsize = 15)\n",
    "bbox_args = dict(boxstyle = 'round', fc = '0.9')\n",
    "plt.show()"
   ]
  },
  {
   "cell_type": "markdown",
   "id": "45a2ed61",
   "metadata": {},
   "source": [
    "# DROP OF UNNESSESSARY FEATURE"
   ]
  },
  {
   "cell_type": "code",
   "execution_count": 16,
   "id": "6511ed41",
   "metadata": {},
   "outputs": [],
   "source": [
    "train_df = train_df.drop('id', axis=1)\n",
    "test_df = test_df.drop('id', axis=1)"
   ]
  },
  {
   "cell_type": "code",
   "execution_count": 17,
   "id": "e8ab7ff7",
   "metadata": {},
   "outputs": [
    {
     "data": {
      "text/html": [
       "<div>\n",
       "<style scoped>\n",
       "    .dataframe tbody tr th:only-of-type {\n",
       "        vertical-align: middle;\n",
       "    }\n",
       "\n",
       "    .dataframe tbody tr th {\n",
       "        vertical-align: top;\n",
       "    }\n",
       "\n",
       "    .dataframe thead th {\n",
       "        text-align: right;\n",
       "    }\n",
       "</style>\n",
       "<table border=\"1\" class=\"dataframe\">\n",
       "  <thead>\n",
       "    <tr style=\"text-align: right;\">\n",
       "      <th></th>\n",
       "      <th>keyword</th>\n",
       "      <th>location</th>\n",
       "      <th>text</th>\n",
       "      <th>target</th>\n",
       "      <th>text_clean</th>\n",
       "    </tr>\n",
       "  </thead>\n",
       "  <tbody>\n",
       "    <tr>\n",
       "      <th>0</th>\n",
       "      <td>None</td>\n",
       "      <td>None</td>\n",
       "      <td>Our Deeds Reason earthquake May ALLAH Forgive us</td>\n",
       "      <td>1</td>\n",
       "      <td>our deeds are the reason of this #earthquake m...</td>\n",
       "    </tr>\n",
       "    <tr>\n",
       "      <th>1</th>\n",
       "      <td>None</td>\n",
       "      <td>None</td>\n",
       "      <td>Forest fire near La Ronge Sask Canada</td>\n",
       "      <td>1</td>\n",
       "      <td>forest fire near la ronge sask. canada</td>\n",
       "    </tr>\n",
       "    <tr>\n",
       "      <th>2</th>\n",
       "      <td>None</td>\n",
       "      <td>None</td>\n",
       "      <td>All residents asked shelter place notified off...</td>\n",
       "      <td>1</td>\n",
       "      <td>all residents asked to 'shelter in place' are ...</td>\n",
       "    </tr>\n",
       "    <tr>\n",
       "      <th>3</th>\n",
       "      <td>None</td>\n",
       "      <td>None</td>\n",
       "      <td>000 people receive wildfires evacuation orders...</td>\n",
       "      <td>1</td>\n",
       "      <td>13,000 people receive #wildfires evacuation or...</td>\n",
       "    </tr>\n",
       "    <tr>\n",
       "      <th>4</th>\n",
       "      <td>None</td>\n",
       "      <td>None</td>\n",
       "      <td>Just got sent photo Ruby Alaska smoke wildfire...</td>\n",
       "      <td>1</td>\n",
       "      <td>just got sent this photo from ruby #alaska as ...</td>\n",
       "    </tr>\n",
       "    <tr>\n",
       "      <th>...</th>\n",
       "      <td>...</td>\n",
       "      <td>...</td>\n",
       "      <td>...</td>\n",
       "      <td>...</td>\n",
       "      <td>...</td>\n",
       "    </tr>\n",
       "    <tr>\n",
       "      <th>7608</th>\n",
       "      <td>None</td>\n",
       "      <td>None</td>\n",
       "      <td>Two giant cranes holding bridge collapse nearb...</td>\n",
       "      <td>1</td>\n",
       "      <td>two giant cranes holding a bridge collapse int...</td>\n",
       "    </tr>\n",
       "    <tr>\n",
       "      <th>7609</th>\n",
       "      <td>None</td>\n",
       "      <td>None</td>\n",
       "      <td>aria_ahrary TheTawniest The control wild fires...</td>\n",
       "      <td>1</td>\n",
       "      <td>@aria_ahrary @thetawniest the out of control w...</td>\n",
       "    </tr>\n",
       "    <tr>\n",
       "      <th>7610</th>\n",
       "      <td>None</td>\n",
       "      <td>None</td>\n",
       "      <td>M 00 UTCkm S Volcano Hawaii httptcozDtoydEbJ</td>\n",
       "      <td>1</td>\n",
       "      <td>m1.94 [01:04 utc]?5km s of volcano hawaii. htt...</td>\n",
       "    </tr>\n",
       "    <tr>\n",
       "      <th>7611</th>\n",
       "      <td>None</td>\n",
       "      <td>None</td>\n",
       "      <td>Police investigating ebike collided car Little...</td>\n",
       "      <td>1</td>\n",
       "      <td>police investigating after an e-bike collided ...</td>\n",
       "    </tr>\n",
       "    <tr>\n",
       "      <th>7612</th>\n",
       "      <td>None</td>\n",
       "      <td>None</td>\n",
       "      <td>The Latest More Homes Razed Northern Californi...</td>\n",
       "      <td>1</td>\n",
       "      <td>the latest: more homes razed by northern calif...</td>\n",
       "    </tr>\n",
       "  </tbody>\n",
       "</table>\n",
       "<p>7613 rows × 5 columns</p>\n",
       "</div>"
      ],
      "text/plain": [
       "     keyword location                                               text  \\\n",
       "0       None     None   Our Deeds Reason earthquake May ALLAH Forgive us   \n",
       "1       None     None              Forest fire near La Ronge Sask Canada   \n",
       "2       None     None  All residents asked shelter place notified off...   \n",
       "3       None     None  000 people receive wildfires evacuation orders...   \n",
       "4       None     None  Just got sent photo Ruby Alaska smoke wildfire...   \n",
       "...      ...      ...                                                ...   \n",
       "7608    None     None  Two giant cranes holding bridge collapse nearb...   \n",
       "7609    None     None  aria_ahrary TheTawniest The control wild fires...   \n",
       "7610    None     None       M 00 UTCkm S Volcano Hawaii httptcozDtoydEbJ   \n",
       "7611    None     None  Police investigating ebike collided car Little...   \n",
       "7612    None     None  The Latest More Homes Razed Northern Californi...   \n",
       "\n",
       "      target                                         text_clean  \n",
       "0          1  our deeds are the reason of this #earthquake m...  \n",
       "1          1             forest fire near la ronge sask. canada  \n",
       "2          1  all residents asked to 'shelter in place' are ...  \n",
       "3          1  13,000 people receive #wildfires evacuation or...  \n",
       "4          1  just got sent this photo from ruby #alaska as ...  \n",
       "...      ...                                                ...  \n",
       "7608       1  two giant cranes holding a bridge collapse int...  \n",
       "7609       1  @aria_ahrary @thetawniest the out of control w...  \n",
       "7610       1  m1.94 [01:04 utc]?5km s of volcano hawaii. htt...  \n",
       "7611       1  police investigating after an e-bike collided ...  \n",
       "7612       1  the latest: more homes razed by northern calif...  \n",
       "\n",
       "[7613 rows x 5 columns]"
      ]
     },
     "execution_count": 17,
     "metadata": {},
     "output_type": "execute_result"
    }
   ],
   "source": [
    "train_df"
   ]
  },
  {
   "cell_type": "code",
   "execution_count": 18,
   "id": "89df94bf",
   "metadata": {},
   "outputs": [
    {
     "data": {
      "text/html": [
       "<div>\n",
       "<style scoped>\n",
       "    .dataframe tbody tr th:only-of-type {\n",
       "        vertical-align: middle;\n",
       "    }\n",
       "\n",
       "    .dataframe tbody tr th {\n",
       "        vertical-align: top;\n",
       "    }\n",
       "\n",
       "    .dataframe thead th {\n",
       "        text-align: right;\n",
       "    }\n",
       "</style>\n",
       "<table border=\"1\" class=\"dataframe\">\n",
       "  <thead>\n",
       "    <tr style=\"text-align: right;\">\n",
       "      <th></th>\n",
       "      <th>keyword</th>\n",
       "      <th>location</th>\n",
       "      <th>text</th>\n",
       "      <th>text_clean</th>\n",
       "    </tr>\n",
       "  </thead>\n",
       "  <tbody>\n",
       "    <tr>\n",
       "      <th>0</th>\n",
       "      <td>None</td>\n",
       "      <td>None</td>\n",
       "      <td>Our Deeds Reason earthquake May ALLAH Forgive us</td>\n",
       "      <td>just happened a terrible car crash</td>\n",
       "    </tr>\n",
       "    <tr>\n",
       "      <th>1</th>\n",
       "      <td>None</td>\n",
       "      <td>None</td>\n",
       "      <td>Forest fire near La Ronge Sask Canada</td>\n",
       "      <td>heard about #earthquake is different cities, s...</td>\n",
       "    </tr>\n",
       "    <tr>\n",
       "      <th>2</th>\n",
       "      <td>None</td>\n",
       "      <td>None</td>\n",
       "      <td>All residents asked shelter place notified off...</td>\n",
       "      <td>there is a forest fire at spot pond, geese are...</td>\n",
       "    </tr>\n",
       "    <tr>\n",
       "      <th>3</th>\n",
       "      <td>None</td>\n",
       "      <td>None</td>\n",
       "      <td>000 people receive wildfires evacuation orders...</td>\n",
       "      <td>apocalypse lighting. #spokane #wildfires</td>\n",
       "    </tr>\n",
       "    <tr>\n",
       "      <th>4</th>\n",
       "      <td>None</td>\n",
       "      <td>None</td>\n",
       "      <td>Just got sent photo Ruby Alaska smoke wildfire...</td>\n",
       "      <td>typhoon soudelor kills 28 in china and taiwan</td>\n",
       "    </tr>\n",
       "    <tr>\n",
       "      <th>...</th>\n",
       "      <td>...</td>\n",
       "      <td>...</td>\n",
       "      <td>...</td>\n",
       "      <td>...</td>\n",
       "    </tr>\n",
       "    <tr>\n",
       "      <th>3258</th>\n",
       "      <td>None</td>\n",
       "      <td>None</td>\n",
       "      <td>Do feel engulfed low selfimage Take quiz httpt...</td>\n",
       "      <td>earthquake safety los angeles  safety fastener...</td>\n",
       "    </tr>\n",
       "    <tr>\n",
       "      <th>3259</th>\n",
       "      <td>None</td>\n",
       "      <td>None</td>\n",
       "      <td>Man equally incapable seeing nothingness emerg...</td>\n",
       "      <td>storm in ri worse than last hurricane. my city...</td>\n",
       "    </tr>\n",
       "    <tr>\n",
       "      <th>3260</th>\n",
       "      <td>None</td>\n",
       "      <td>None</td>\n",
       "      <td>Fully Engulfed Garage Fire Propane Tanks Insid...</td>\n",
       "      <td>green line derailment in chicago http://t.co/u...</td>\n",
       "    </tr>\n",
       "    <tr>\n",
       "      <th>3261</th>\n",
       "      <td>None</td>\n",
       "      <td>None</td>\n",
       "      <td>He came land engulfed tribal war turned land p...</td>\n",
       "      <td>meg issues hazardous weather outlook (hwo) htt...</td>\n",
       "    </tr>\n",
       "    <tr>\n",
       "      <th>3262</th>\n",
       "      <td>None</td>\n",
       "      <td>None</td>\n",
       "      <td>suelinflower words describe physical painthey ...</td>\n",
       "      <td>#cityofcalgary has activated its municipal eme...</td>\n",
       "    </tr>\n",
       "  </tbody>\n",
       "</table>\n",
       "<p>3263 rows × 4 columns</p>\n",
       "</div>"
      ],
      "text/plain": [
       "     keyword location                                               text  \\\n",
       "0       None     None   Our Deeds Reason earthquake May ALLAH Forgive us   \n",
       "1       None     None              Forest fire near La Ronge Sask Canada   \n",
       "2       None     None  All residents asked shelter place notified off...   \n",
       "3       None     None  000 people receive wildfires evacuation orders...   \n",
       "4       None     None  Just got sent photo Ruby Alaska smoke wildfire...   \n",
       "...      ...      ...                                                ...   \n",
       "3258    None     None  Do feel engulfed low selfimage Take quiz httpt...   \n",
       "3259    None     None  Man equally incapable seeing nothingness emerg...   \n",
       "3260    None     None  Fully Engulfed Garage Fire Propane Tanks Insid...   \n",
       "3261    None     None  He came land engulfed tribal war turned land p...   \n",
       "3262    None     None  suelinflower words describe physical painthey ...   \n",
       "\n",
       "                                             text_clean  \n",
       "0                    just happened a terrible car crash  \n",
       "1     heard about #earthquake is different cities, s...  \n",
       "2     there is a forest fire at spot pond, geese are...  \n",
       "3              apocalypse lighting. #spokane #wildfires  \n",
       "4         typhoon soudelor kills 28 in china and taiwan  \n",
       "...                                                 ...  \n",
       "3258  earthquake safety los angeles  safety fastener...  \n",
       "3259  storm in ri worse than last hurricane. my city...  \n",
       "3260  green line derailment in chicago http://t.co/u...  \n",
       "3261  meg issues hazardous weather outlook (hwo) htt...  \n",
       "3262  #cityofcalgary has activated its municipal eme...  \n",
       "\n",
       "[3263 rows x 4 columns]"
      ]
     },
     "execution_count": 18,
     "metadata": {},
     "output_type": "execute_result"
    }
   ],
   "source": [
    "test_df"
   ]
  },
  {
   "cell_type": "markdown",
   "id": "87149491",
   "metadata": {},
   "source": [
    "# TOKENIZATION"
   ]
  },
  {
   "cell_type": "code",
   "execution_count": 19,
   "id": "3e537b07",
   "metadata": {},
   "outputs": [],
   "source": [
    "import nltk\n",
    "from nltk import TweetTokenizer\n",
    "\n",
    "tokenizer = TweetTokenizer()\n",
    "\n",
    "train_df['tokens'] = [tokenizer.tokenize(item) for item in train_df.text]\n",
    "test_df['tokens'] = [tokenizer.tokenize(item) for item in test_df.text]"
   ]
  },
  {
   "cell_type": "code",
   "execution_count": 20,
   "id": "6f3c7896",
   "metadata": {},
   "outputs": [
    {
     "data": {
      "text/plain": [
       "0       [Our, Deeds, Reason, earthquake, May, ALLAH, F...\n",
       "1           [Forest, fire, near, La, Ronge, Sask, Canada]\n",
       "2       [All, residents, asked, shelter, place, notifi...\n",
       "3       [000, people, receive, wildfires, evacuation, ...\n",
       "4       [Just, got, sent, photo, Ruby, Alaska, smoke, ...\n",
       "                              ...                        \n",
       "7608    [Two, giant, cranes, holding, bridge, collapse...\n",
       "7609    [aria_ahrary, TheTawniest, The, control, wild,...\n",
       "7610    [M, 00, UTCkm, S, Volcano, Hawaii, httptcozDto...\n",
       "7611    [Police, investigating, ebike, collided, car, ...\n",
       "7612    [The, Latest, More, Homes, Razed, Northern, Ca...\n",
       "Name: tokens, Length: 7613, dtype: object"
      ]
     },
     "execution_count": 20,
     "metadata": {},
     "output_type": "execute_result"
    }
   ],
   "source": [
    "train_df['tokens']"
   ]
  },
  {
   "cell_type": "code",
   "execution_count": 21,
   "id": "4d7d581d",
   "metadata": {},
   "outputs": [
    {
     "data": {
      "text/plain": [
       "0       [Our, Deeds, Reason, earthquake, May, ALLAH, F...\n",
       "1           [Forest, fire, near, La, Ronge, Sask, Canada]\n",
       "2       [All, residents, asked, shelter, place, notifi...\n",
       "3       [000, people, receive, wildfires, evacuation, ...\n",
       "4       [Just, got, sent, photo, Ruby, Alaska, smoke, ...\n",
       "                              ...                        \n",
       "3258    [Do, feel, engulfed, low, selfimage, Take, qui...\n",
       "3259    [Man, equally, incapable, seeing, nothingness,...\n",
       "3260    [Fully, Engulfed, Garage, Fire, Propane, Tanks...\n",
       "3261    [He, came, land, engulfed, tribal, war, turned...\n",
       "3262    [suelinflower, words, describe, physical, pain...\n",
       "Name: tokens, Length: 3263, dtype: object"
      ]
     },
     "execution_count": 21,
     "metadata": {},
     "output_type": "execute_result"
    }
   ],
   "source": [
    "test_df['tokens']"
   ]
  },
  {
   "cell_type": "markdown",
   "id": "4fcb24e5",
   "metadata": {},
   "source": [
    "# LEMMATION"
   ]
  },
  {
   "cell_type": "code",
   "execution_count": 22,
   "id": "156b5dcb",
   "metadata": {},
   "outputs": [],
   "source": [
    "from nltk.stem import WordNetLemmatizer\n",
    "\n",
    "lemmatizer = WordNetLemmatizer()\n",
    "\n",
    "def lemmatize_item(item):\n",
    "    new_item = []\n",
    "    for x in item:\n",
    "        x = lemmatizer.lemmatize(x)\n",
    "        new_item.append(x)\n",
    "    return \" \".join(new_item)\n",
    "\n",
    "train_df['tokens'] = [lemmatize_item(item) for item in train_df.tokens]\n",
    "test_df['tokens'] = [lemmatize_item(item) for item in test_df.tokens]"
   ]
  },
  {
   "cell_type": "code",
   "execution_count": 23,
   "id": "931a158b",
   "metadata": {},
   "outputs": [
    {
     "data": {
      "text/plain": [
       "0         Our Deeds Reason earthquake May ALLAH Forgive u\n",
       "1                   Forest fire near La Ronge Sask Canada\n",
       "2       All resident asked shelter place notified offi...\n",
       "3       000 people receive wildfire evacuation order C...\n",
       "4       Just got sent photo Ruby Alaska smoke wildfire...\n",
       "                              ...                        \n",
       "7608    Two giant crane holding bridge collapse nearby...\n",
       "7609    aria_ahrary TheTawniest The control wild fire ...\n",
       "7610         M 00 UTCkm S Volcano Hawaii httptcozDtoydEbJ\n",
       "7611    Police investigating ebike collided car Little...\n",
       "7612    The Latest More Homes Razed Northern Californi...\n",
       "Name: tokens, Length: 7613, dtype: object"
      ]
     },
     "execution_count": 23,
     "metadata": {},
     "output_type": "execute_result"
    }
   ],
   "source": [
    "train_df['tokens']"
   ]
  },
  {
   "cell_type": "code",
   "execution_count": 24,
   "id": "6ac48cc2",
   "metadata": {},
   "outputs": [
    {
     "data": {
      "text/plain": [
       "0         Our Deeds Reason earthquake May ALLAH Forgive u\n",
       "1                   Forest fire near La Ronge Sask Canada\n",
       "2       All resident asked shelter place notified offi...\n",
       "3       000 people receive wildfire evacuation order C...\n",
       "4       Just got sent photo Ruby Alaska smoke wildfire...\n",
       "                              ...                        \n",
       "3258    Do feel engulfed low selfimage Take quiz httpt...\n",
       "3259    Man equally incapable seeing nothingness emerg...\n",
       "3260    Fully Engulfed Garage Fire Propane Tanks Insid...\n",
       "3261    He came land engulfed tribal war turned land p...\n",
       "3262    suelinflower word describe physical painthey r...\n",
       "Name: tokens, Length: 3263, dtype: object"
      ]
     },
     "execution_count": 24,
     "metadata": {},
     "output_type": "execute_result"
    }
   ],
   "source": [
    "test_df['tokens']"
   ]
  },
  {
   "cell_type": "markdown",
   "id": "41fc4dcd",
   "metadata": {},
   "source": [
    "# VECTORIZER"
   ]
  },
  {
   "cell_type": "code",
   "execution_count": 25,
   "id": "f0744047",
   "metadata": {},
   "outputs": [],
   "source": [
    "from sklearn.feature_extraction.text import CountVectorizer\n",
    "vectorizer = CountVectorizer()\n",
    "X = vectorizer.fit_transform(train_df.text).toarray()\n",
    "y = train_df['target']"
   ]
  },
  {
   "cell_type": "markdown",
   "id": "357b628a",
   "metadata": {},
   "source": [
    "# DATA SPLITTING"
   ]
  },
  {
   "cell_type": "code",
   "execution_count": 26,
   "id": "fd55c40f",
   "metadata": {},
   "outputs": [],
   "source": [
    "from sklearn.model_selection import train_test_split\n",
    "X_train, X_test, y_train, y_test = train_test_split(X, y, test_size = 0.2, random_state = 0)"
   ]
  },
  {
   "cell_type": "markdown",
   "id": "122e9765",
   "metadata": {},
   "source": [
    "# DEFINE LOGISTIC REGRESSION"
   ]
  },
  {
   "cell_type": "code",
   "execution_count": 27,
   "id": "2179a388",
   "metadata": {},
   "outputs": [],
   "source": [
    "from sklearn.linear_model import LogisticRegression\n",
    "log = LogisticRegression(random_state = 0)\n",
    "log.fit(X_train, y_train)\n",
    "log_pred = log.predict(X_test)"
   ]
  },
  {
   "cell_type": "code",
   "execution_count": 28,
   "id": "9153d831",
   "metadata": {},
   "outputs": [
    {
     "data": {
      "text/plain": [
       "array([0, 0, 0, ..., 0, 0, 1], dtype=int64)"
      ]
     },
     "execution_count": 28,
     "metadata": {},
     "output_type": "execute_result"
    }
   ],
   "source": [
    "log_pred"
   ]
  },
  {
   "cell_type": "code",
   "execution_count": 29,
   "id": "56c42219",
   "metadata": {},
   "outputs": [],
   "source": [
    "from sklearn.preprocessing import StandardScaler"
   ]
  },
  {
   "cell_type": "code",
   "execution_count": 30,
   "id": "b8abeee2",
   "metadata": {},
   "outputs": [],
   "source": [
    "ss=StandardScaler()"
   ]
  },
  {
   "cell_type": "code",
   "execution_count": 31,
   "id": "b6557bfd",
   "metadata": {},
   "outputs": [],
   "source": [
    "scale=ss.fit_transform(X_test)"
   ]
  },
  {
   "cell_type": "code",
   "execution_count": 32,
   "id": "921c9895",
   "metadata": {},
   "outputs": [
    {
     "data": {
      "text/plain": [
       "array([[-0.13178797, -0.08911656, -0.03626189, ...,  0.        ,\n",
       "        -0.0256326 ,  0.        ],\n",
       "       [-0.13178797, -0.08911656, -0.03626189, ...,  0.        ,\n",
       "        -0.0256326 ,  0.        ],\n",
       "       [-0.13178797, -0.08911656, -0.03626189, ...,  0.        ,\n",
       "        -0.0256326 ,  0.        ],\n",
       "       ...,\n",
       "       [-0.13178797, -0.08911656, -0.03626189, ...,  0.        ,\n",
       "        -0.0256326 ,  0.        ],\n",
       "       [-0.13178797, -0.08911656, -0.03626189, ...,  0.        ,\n",
       "        -0.0256326 ,  0.        ],\n",
       "       [-0.13178797, -0.08911656, -0.03626189, ...,  0.        ,\n",
       "        -0.0256326 ,  0.        ]])"
      ]
     },
     "execution_count": 32,
     "metadata": {},
     "output_type": "execute_result"
    }
   ],
   "source": [
    "scale"
   ]
  },
  {
   "cell_type": "markdown",
   "id": "5f899d2f",
   "metadata": {},
   "source": [
    "# DEFINE KNN MODEL"
   ]
  },
  {
   "cell_type": "code",
   "execution_count": 33,
   "id": "72c844f9",
   "metadata": {},
   "outputs": [],
   "source": [
    "from sklearn.neighbors import KNeighborsClassifier"
   ]
  },
  {
   "cell_type": "code",
   "execution_count": 34,
   "id": "5465a85f",
   "metadata": {},
   "outputs": [
    {
     "data": {
      "text/plain": [
       "KNeighborsClassifier(n_neighbors=2)"
      ]
     },
     "execution_count": 34,
     "metadata": {},
     "output_type": "execute_result"
    }
   ],
   "source": [
    "model = KNeighborsClassifier(n_neighbors=2)\n",
    "model.fit(X,y)"
   ]
  },
  {
   "cell_type": "code",
   "execution_count": 36,
   "id": "bbb9b25c",
   "metadata": {},
   "outputs": [
    {
     "data": {
      "text/plain": [
       "array([0, 0, 0, ..., 1, 1, 1], dtype=int64)"
      ]
     },
     "execution_count": 36,
     "metadata": {},
     "output_type": "execute_result"
    }
   ],
   "source": [
    "y_predict=model.predict(X)\n",
    "y_predict"
   ]
  },
  {
   "cell_type": "markdown",
   "id": "2320d97d",
   "metadata": {},
   "source": [
    "# MODEL EVALUATION"
   ]
  },
  {
   "cell_type": "code",
   "execution_count": 37,
   "id": "fbf384db",
   "metadata": {},
   "outputs": [
    {
     "name": "stdout",
     "output_type": "stream",
     "text": [
      "\n",
      "ACCURACY :  0.8049901510177282\n"
     ]
    }
   ],
   "source": [
    "from sklearn.metrics import accuracy_score, classification_report, confusion_matrix\n",
    "\n",
    "acc = accuracy_score(y_test,log_pred)\n",
    "print(\"\\nACCURACY : \",acc)"
   ]
  },
  {
   "cell_type": "code",
   "execution_count": 38,
   "id": "424a84b0",
   "metadata": {},
   "outputs": [
    {
     "name": "stdout",
     "output_type": "stream",
     "text": [
      "\n",
      "CLASSIFICATION REPORT:\n",
      "               precision    recall  f1-score   support\n",
      "\n",
      "           0       0.80      0.89      0.84       886\n",
      "           1       0.82      0.68      0.75       637\n",
      "\n",
      "    accuracy                           0.80      1523\n",
      "   macro avg       0.81      0.79      0.79      1523\n",
      "weighted avg       0.81      0.80      0.80      1523\n",
      "\n"
     ]
    }
   ],
   "source": [
    "clf_report = classification_report(y_test,log_pred)\n",
    "print(\"\\nCLASSIFICATION REPORT:\\n\", clf_report)"
   ]
  },
  {
   "cell_type": "code",
   "execution_count": 61,
   "id": "5efd4c0e",
   "metadata": {},
   "outputs": [
    {
     "name": "stdout",
     "output_type": "stream",
     "text": [
      "\n",
      "ACCURACY :  0.7556810718507816\n"
     ]
    }
   ],
   "source": [
    "acc1=accuracy_score(y,y_predict)\n",
    "print(\"\\nACCURACY : \",acc1)"
   ]
  },
  {
   "cell_type": "code",
   "execution_count": 60,
   "id": "57ff2135",
   "metadata": {},
   "outputs": [
    {
     "name": "stdout",
     "output_type": "stream",
     "text": [
      "\n",
      "CLASSIFICATION REPORT:\n",
      "               precision    recall  f1-score   support\n",
      "\n",
      "           0       0.70      1.00      0.82      4342\n",
      "           1       1.00      0.43      0.60      3271\n",
      "\n",
      "    accuracy                           0.76      7613\n",
      "   macro avg       0.85      0.72      0.71      7613\n",
      "weighted avg       0.83      0.76      0.73      7613\n",
      "\n"
     ]
    }
   ],
   "source": [
    "clfs_report = classification_report(y,y_predict)\n",
    "print(\"\\nCLASSIFICATION REPORT:\\n\", clfs_report)"
   ]
  },
  {
   "cell_type": "code",
   "execution_count": 39,
   "id": "1f731158",
   "metadata": {},
   "outputs": [],
   "source": [
    "import seaborn as sns\n",
    "import matplotlib.pyplot as plt"
   ]
  },
  {
   "cell_type": "code",
   "execution_count": 40,
   "id": "1c6ca1e3",
   "metadata": {},
   "outputs": [
    {
     "name": "stdout",
     "output_type": "stream",
     "text": [
      "\n",
      "CONFUSION MATRIX:\n"
     ]
    },
    {
     "data": {
      "image/png": "[encoded data removed]",
      "text/plain": [
       "<Figure size 432x288 with 2 Axes>"
      ]
     },
     "metadata": {
      "needs_background": "light"
     },
     "output_type": "display_data"
    }
   ],
   "source": [
    "print(\"\\nCONFUSION MATRIX:\")\n",
    "sns.heatmap(confusion_matrix(y_test,log_pred),annot=True,fmt='g',cmap=\"rainbow\")\n",
    "plt.show()"
   ]
  },
  {
   "cell_type": "code",
   "execution_count": 62,
   "id": "87934065",
   "metadata": {},
   "outputs": [
    {
     "name": "stdout",
     "output_type": "stream",
     "text": [
      "\n",
      "CONFUSION MATRIX:\n"
     ]
    },
    {
     "data": {
      "image/png": "[encoded data removed]",
      "text/plain": [
       "<Figure size 432x288 with 2 Axes>"
      ]
     },
     "metadata": {
      "needs_background": "light"
     },
     "output_type": "display_data"
    }
   ],
   "source": [
    "print(\"\\nCONFUSION MATRIX:\")\n",
    "sns.heatmap(confusion_matrix(y,y_predict),annot=True,fmt='g',cmap=\"rainbow\")\n",
    "plt.show()"
   ]
  },
  {
   "cell_type": "markdown",
   "id": "1f9298cb",
   "metadata": {},
   "source": [
    "# PREDICTION"
   ]
  },
  {
   "cell_type": "code",
   "execution_count": 63,
   "id": "e6b8772a",
   "metadata": {},
   "outputs": [],
   "source": [
    "test = vectorizer.transform(test_df.text).toarray()\n",
    "pred = log.predict(test)"
   ]
  },
  {
   "cell_type": "code",
   "execution_count": 64,
   "id": "8c1d1656",
   "metadata": {},
   "outputs": [
    {
     "data": {
      "text/plain": [
       "array([1, 1, 1, ..., 1, 0, 0], dtype=int64)"
      ]
     },
     "execution_count": 64,
     "metadata": {},
     "output_type": "execute_result"
    }
   ],
   "source": [
    "pred"
   ]
  },
  {
   "cell_type": "code",
   "execution_count": 65,
   "id": "fbce8b5f",
   "metadata": {},
   "outputs": [],
   "source": [
    "submission=pd.read_csv(\"submission.csv\")"
   ]
  },
  {
   "cell_type": "code",
   "execution_count": 66,
   "id": "549991c1",
   "metadata": {},
   "outputs": [
    {
     "data": {
      "text/html": [
       "<div>\n",
       "<style scoped>\n",
       "    .dataframe tbody tr th:only-of-type {\n",
       "        vertical-align: middle;\n",
       "    }\n",
       "\n",
       "    .dataframe tbody tr th {\n",
       "        vertical-align: top;\n",
       "    }\n",
       "\n",
       "    .dataframe thead th {\n",
       "        text-align: right;\n",
       "    }\n",
       "</style>\n",
       "<table border=\"1\" class=\"dataframe\">\n",
       "  <thead>\n",
       "    <tr style=\"text-align: right;\">\n",
       "      <th></th>\n",
       "      <th>id</th>\n",
       "      <th>target</th>\n",
       "    </tr>\n",
       "  </thead>\n",
       "  <tbody>\n",
       "    <tr>\n",
       "      <th>0</th>\n",
       "      <td>0</td>\n",
       "      <td>0</td>\n",
       "    </tr>\n",
       "    <tr>\n",
       "      <th>1</th>\n",
       "      <td>2</td>\n",
       "      <td>0</td>\n",
       "    </tr>\n",
       "    <tr>\n",
       "      <th>2</th>\n",
       "      <td>3</td>\n",
       "      <td>0</td>\n",
       "    </tr>\n",
       "    <tr>\n",
       "      <th>3</th>\n",
       "      <td>9</td>\n",
       "      <td>0</td>\n",
       "    </tr>\n",
       "    <tr>\n",
       "      <th>4</th>\n",
       "      <td>11</td>\n",
       "      <td>0</td>\n",
       "    </tr>\n",
       "    <tr>\n",
       "      <th>...</th>\n",
       "      <td>...</td>\n",
       "      <td>...</td>\n",
       "    </tr>\n",
       "    <tr>\n",
       "      <th>3258</th>\n",
       "      <td>10861</td>\n",
       "      <td>0</td>\n",
       "    </tr>\n",
       "    <tr>\n",
       "      <th>3259</th>\n",
       "      <td>10865</td>\n",
       "      <td>0</td>\n",
       "    </tr>\n",
       "    <tr>\n",
       "      <th>3260</th>\n",
       "      <td>10868</td>\n",
       "      <td>0</td>\n",
       "    </tr>\n",
       "    <tr>\n",
       "      <th>3261</th>\n",
       "      <td>10874</td>\n",
       "      <td>0</td>\n",
       "    </tr>\n",
       "    <tr>\n",
       "      <th>3262</th>\n",
       "      <td>10875</td>\n",
       "      <td>0</td>\n",
       "    </tr>\n",
       "  </tbody>\n",
       "</table>\n",
       "<p>3263 rows × 2 columns</p>\n",
       "</div>"
      ],
      "text/plain": [
       "         id  target\n",
       "0         0       0\n",
       "1         2       0\n",
       "2         3       0\n",
       "3         9       0\n",
       "4        11       0\n",
       "...     ...     ...\n",
       "3258  10861       0\n",
       "3259  10865       0\n",
       "3260  10868       0\n",
       "3261  10874       0\n",
       "3262  10875       0\n",
       "\n",
       "[3263 rows x 2 columns]"
      ]
     },
     "execution_count": 66,
     "metadata": {},
     "output_type": "execute_result"
    }
   ],
   "source": [
    "submission"
   ]
  },
  {
   "cell_type": "code",
   "execution_count": 67,
   "id": "59cb34a4",
   "metadata": {},
   "outputs": [],
   "source": [
    "submission[\"target\"]=pred"
   ]
  },
  {
   "cell_type": "code",
   "execution_count": 68,
   "id": "67be9dbc",
   "metadata": {},
   "outputs": [],
   "source": [
    "submission.to_csv('Final.csv',index=False)"
   ]
  },
  {
   "cell_type": "code",
   "execution_count": 69,
   "id": "fd3bf78a",
   "metadata": {},
   "outputs": [],
   "source": [
    "data=pd.read_csv(\"Final.csv\")"
   ]
  },
  {
   "cell_type": "code",
   "execution_count": 70,
   "id": "642e418f",
   "metadata": {},
   "outputs": [
    {
     "data": {
      "text/html": [
       "<div>\n",
       "<style scoped>\n",
       "    .dataframe tbody tr th:only-of-type {\n",
       "        vertical-align: middle;\n",
       "    }\n",
       "\n",
       "    .dataframe tbody tr th {\n",
       "        vertical-align: top;\n",
       "    }\n",
       "\n",
       "    .dataframe thead th {\n",
       "        text-align: right;\n",
       "    }\n",
       "</style>\n",
       "<table border=\"1\" class=\"dataframe\">\n",
       "  <thead>\n",
       "    <tr style=\"text-align: right;\">\n",
       "      <th></th>\n",
       "      <th>id</th>\n",
       "      <th>target</th>\n",
       "    </tr>\n",
       "  </thead>\n",
       "  <tbody>\n",
       "    <tr>\n",
       "      <th>0</th>\n",
       "      <td>0</td>\n",
       "      <td>1</td>\n",
       "    </tr>\n",
       "    <tr>\n",
       "      <th>1</th>\n",
       "      <td>2</td>\n",
       "      <td>1</td>\n",
       "    </tr>\n",
       "    <tr>\n",
       "      <th>2</th>\n",
       "      <td>3</td>\n",
       "      <td>1</td>\n",
       "    </tr>\n",
       "    <tr>\n",
       "      <th>3</th>\n",
       "      <td>9</td>\n",
       "      <td>1</td>\n",
       "    </tr>\n",
       "    <tr>\n",
       "      <th>4</th>\n",
       "      <td>11</td>\n",
       "      <td>1</td>\n",
       "    </tr>\n",
       "    <tr>\n",
       "      <th>...</th>\n",
       "      <td>...</td>\n",
       "      <td>...</td>\n",
       "    </tr>\n",
       "    <tr>\n",
       "      <th>3258</th>\n",
       "      <td>10861</td>\n",
       "      <td>0</td>\n",
       "    </tr>\n",
       "    <tr>\n",
       "      <th>3259</th>\n",
       "      <td>10865</td>\n",
       "      <td>0</td>\n",
       "    </tr>\n",
       "    <tr>\n",
       "      <th>3260</th>\n",
       "      <td>10868</td>\n",
       "      <td>1</td>\n",
       "    </tr>\n",
       "    <tr>\n",
       "      <th>3261</th>\n",
       "      <td>10874</td>\n",
       "      <td>0</td>\n",
       "    </tr>\n",
       "    <tr>\n",
       "      <th>3262</th>\n",
       "      <td>10875</td>\n",
       "      <td>0</td>\n",
       "    </tr>\n",
       "  </tbody>\n",
       "</table>\n",
       "<p>3263 rows × 2 columns</p>\n",
       "</div>"
      ],
      "text/plain": [
       "         id  target\n",
       "0         0       1\n",
       "1         2       1\n",
       "2         3       1\n",
       "3         9       1\n",
       "4        11       1\n",
       "...     ...     ...\n",
       "3258  10861       0\n",
       "3259  10865       0\n",
       "3260  10868       1\n",
       "3261  10874       0\n",
       "3262  10875       0\n",
       "\n",
       "[3263 rows x 2 columns]"
      ]
     },
     "execution_count": 70,
     "metadata": {},
     "output_type": "execute_result"
    }
   ],
   "source": [
    "data"
   ]
  }
 ],
 "metadata": {
  "kernelspec": {
   "display_name": "Python 3",
   "language": "python",
   "name": "python3"
  },
  "language_info": {
   "codemirror_mode": {
    "name": "ipython",
    "version": 3
   },
   "file_extension": ".py",
   "mimetype": "text/x-python",
   "name": "python",
   "nbconvert_exporter": "python",
   "pygments_lexer": "ipython3",
   "version": "3.8.8"
  }
 },
 "nbformat": 4,
 "nbformat_minor": 5
}
